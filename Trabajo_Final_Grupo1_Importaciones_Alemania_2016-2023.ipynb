{
 "cells": [
  {
   "cell_type": "markdown",
   "metadata": {},
   "source": [
    "Importación_Librerias"
   ]
  },
  {
   "cell_type": "code",
   "execution_count": 41,
   "metadata": {},
   "outputs": [],
   "source": [
    "import pandas as pd\n",
    "import numpy as np\n",
    "import seaborn as sns\n",
    "import matplotlib.pyplot as plt\n",
    "import openpyxl \n",
    "import imblearn\n",
    "import sklearn\n",
    "import os\n",
    "from tabulate import tabulate"
   ]
  },
  {
   "cell_type": "markdown",
   "metadata": {},
   "source": [
    "Conexión Archivos Fuente"
   ]
  },
  {
   "cell_type": "code",
   "execution_count": 42,
   "metadata": {},
   "outputs": [
    {
     "name": "stdout",
     "output_type": "stream",
     "text": [
      "╒════╤════════╤══════════════╤══════════════════════════════════════════════════════════╤═════════════════════╤═════════════════════╤════════════════╤══════════════════╤════════════════╤════════════════════════════════════════════╤═══════════════════════════════════════════════╤══════════════════════════════════════════════╕\n",
      "│    │   fila │ País Socio   │ Capitulo Del Arancel                                     │   Código de Partida │ Nombre de Partida   │   Cantidad(Kg) │   Valor CIF Euro │   Valor CIF US │   Valor Unitario (Valor CIF Euro/Cantidad) │   Valor Unitario (Valor CIF US/Cantidad (KG)) │ Nombre_Archivo                               │\n",
      "╞════╪════════╪══════════════╪══════════════════════════════════════════════════════════╪═════════════════════╪═════════════════════╪════════════════╪══════════════════╪════════════════╪════════════════════════════════════════════╪═══════════════════════════════════════════════╪══════════════════════════════════════════════╡\n",
      "│  0 │      1 │ AUSTRALIA    │ Frutas; cortezas de agrios (cítricos), melones o sandías │            08011100 │ Secos               │             40 │              125 │         140.3  │                                    3.125   │                                       3.5075  │ 2016_IMP_ALEMANIA_CAP_ARANCEL_08_FRUTAS.xlsx │\n",
      "├────┼────────┼──────────────┼──────────────────────────────────────────────────────────┼─────────────────────┼─────────────────────┼────────────────┼──────────────────┼────────────────┼────────────────────────────────────────────┼───────────────────────────────────────────────┼──────────────────────────────────────────────┤\n",
      "│  1 │      2 │ AUSTRIA (UE) │ Frutas; cortezas de agrios (cítricos), melones o sandías │            08011100 │ Secos               │         110849 │           503483 │      565109    │                                    4.54206 │                                       5.09801 │ 2016_IMP_ALEMANIA_CAP_ARANCEL_08_FRUTAS.xlsx │\n",
      "├────┼────────┼──────────────┼──────────────────────────────────────────────────────────┼─────────────────────┼─────────────────────┼────────────────┼──────────────────┼────────────────┼────────────────────────────────────────────┼───────────────────────────────────────────────┼──────────────────────────────────────────────┤\n",
      "│  2 │      3 │ BÉLGICA (UE) │ Frutas; cortezas de agrios (cítricos), melones o sandías │            08011100 │ Secos               │          51955 │           142451 │      159887    │                                    2.74182 │                                       3.07741 │ 2016_IMP_ALEMANIA_CAP_ARANCEL_08_FRUTAS.xlsx │\n",
      "├────┼────────┼──────────────┼──────────────────────────────────────────────────────────┼─────────────────────┼─────────────────────┼────────────────┼──────────────────┼────────────────┼────────────────────────────────────────────┼───────────────────────────────────────────────┼──────────────────────────────────────────────┤\n",
      "│  3 │      4 │ BRASIL       │ Frutas; cortezas de agrios (cítricos), melones o sandías │            08011100 │ Secos               │             43 │              225 │         252.54 │                                    5.23256 │                                       5.87302 │ 2016_IMP_ALEMANIA_CAP_ARANCEL_08_FRUTAS.xlsx │\n",
      "├────┼────────┼──────────────┼──────────────────────────────────────────────────────────┼─────────────────────┼─────────────────────┼────────────────┼──────────────────┼────────────────┼────────────────────────────────────────────┼───────────────────────────────────────────────┼──────────────────────────────────────────────┤\n",
      "│  4 │      5 │ BURKINA FASO │ Frutas; cortezas de agrios (cítricos), melones o sandías │            08011100 │ Secos               │          21930 │            85964 │       96486    │                                    3.91993 │                                       4.39973 │ 2016_IMP_ALEMANIA_CAP_ARANCEL_08_FRUTAS.xlsx │\n",
      "╘════╧════════╧══════════════╧══════════════════════════════════════════════════════════╧═════════════════════╧═════════════════════╧════════════════╧══════════════════╧════════════════╧════════════════════════════════════════════╧═══════════════════════════════════════════════╧══════════════════════════════════════════════╛\n"
     ]
    }
   ],
   "source": [
    "\n",
    "# Directorio donde están los archivos Excel\n",
    "folder_path = 'D:/Andres/Andres/OneDrive - utadeo.edu.co/Univerdidad/U_Tadeo/MIAD/2_Semestre/PRINCIPIOS_MODELADO_SIMULACION/TRABAJO_FINAL/FUENTE_DE_DATOS'\n",
    "\n",
    "# Nombre de la pestaña específica que quieres leer\n",
    "sheet_name = 'Detalle'\n",
    "\n",
    "# Lista para almacenar los DataFrames\n",
    "dataframes = []\n",
    "\n",
    "# Iterar sobre todos los archivos en la carpeta\n",
    "for filename in os.listdir(folder_path):\n",
    "    if filename.endswith(\".xlsx\"):  # Filtrar solo archivos Excel\n",
    "        file_path = os.path.join(folder_path, filename)\n",
    "        \n",
    "        # Leer la hoja específica, omitiendo la  primera fila\n",
    "        df = pd.read_excel(file_path, sheet_name=sheet_name, skiprows=1, engine='openpyxl')\n",
    "        \n",
    "        # La primera fila ahora será el encabezado del DataFrame\n",
    "        df.columns = df.iloc[0]  # Usar la primera fila como encabezado\n",
    "        df = df[1:]  # Eliminar la fila de encabezado duplicada\n",
    "        \n",
    "         # Agregar una columna con el nombre del archivo\n",
    "        df['Nombre_Archivo'] = filename\n",
    "        \n",
    "        # Añadir el DataFrame a la lista\n",
    "        dataframes.append(df)\n",
    "\n",
    "# Concatenar todos los DataFrames (si es necesario)\n",
    "final_df = pd.concat(dataframes, ignore_index=True)\n",
    "\n",
    "# Mostrar el DataFrame final\n",
    "print(tabulate(final_df.head(5), headers='keys', tablefmt='fancy_grid'))\n",
    "\n"
   ]
  },
  {
   "cell_type": "code",
   "execution_count": 43,
   "metadata": {},
   "outputs": [
    {
     "name": "stdout",
     "output_type": "stream",
     "text": [
      "<class 'pandas.core.frame.DataFrame'>\n",
      "RangeIndex: 19245 entries, 0 to 19244\n",
      "Data columns (total 11 columns):\n",
      " #   Column                                       Non-Null Count  Dtype \n",
      "---  ------                                       --------------  ----- \n",
      " 0   fila                                         19245 non-null  object\n",
      " 1   País Socio                                   19245 non-null  object\n",
      " 2   Capitulo Del Arancel                         19245 non-null  object\n",
      " 3   Código de Partida                            19245 non-null  object\n",
      " 4   Nombre de Partida                            19245 non-null  object\n",
      " 5   Cantidad(Kg)                                 19245 non-null  object\n",
      " 6   Valor CIF Euro                               19245 non-null  object\n",
      " 7   Valor CIF US                                 19245 non-null  object\n",
      " 8   Valor Unitario (Valor CIF Euro/Cantidad)     19245 non-null  object\n",
      " 9   Valor Unitario (Valor CIF US/Cantidad (KG))  19245 non-null  object\n",
      " 10  Nombre_Archivo                               19245 non-null  object\n",
      "dtypes: object(11)\n",
      "memory usage: 1.6+ MB\n"
     ]
    }
   ],
   "source": [
    "final_df.shape\n",
    "final_df.info()"
   ]
  },
  {
   "cell_type": "markdown",
   "metadata": {},
   "source": [
    "Agregar columna año"
   ]
  },
  {
   "cell_type": "code",
   "execution_count": 44,
   "metadata": {},
   "outputs": [
    {
     "data": {
      "text/html": [
       "<div>\n",
       "<style scoped>\n",
       "    .dataframe tbody tr th:only-of-type {\n",
       "        vertical-align: middle;\n",
       "    }\n",
       "\n",
       "    .dataframe tbody tr th {\n",
       "        vertical-align: top;\n",
       "    }\n",
       "\n",
       "    .dataframe thead th {\n",
       "        text-align: right;\n",
       "    }\n",
       "</style>\n",
       "<table border=\"1\" class=\"dataframe\">\n",
       "  <thead>\n",
       "    <tr style=\"text-align: right;\">\n",
       "      <th></th>\n",
       "      <th>fila</th>\n",
       "      <th>País Socio</th>\n",
       "      <th>Capitulo Del Arancel</th>\n",
       "      <th>Código de Partida</th>\n",
       "      <th>Nombre de Partida</th>\n",
       "      <th>Cantidad(Kg)</th>\n",
       "      <th>Valor CIF Euro</th>\n",
       "      <th>Valor CIF US</th>\n",
       "      <th>Valor Unitario (Valor CIF Euro/Cantidad)</th>\n",
       "      <th>Valor Unitario (Valor CIF US/Cantidad (KG))</th>\n",
       "      <th>Nombre_Archivo</th>\n",
       "      <th>Año</th>\n",
       "    </tr>\n",
       "  </thead>\n",
       "  <tbody>\n",
       "    <tr>\n",
       "      <th>0</th>\n",
       "      <td>1</td>\n",
       "      <td>AUSTRALIA</td>\n",
       "      <td>Frutas; cortezas de agrios (cítricos), melones...</td>\n",
       "      <td>08011100</td>\n",
       "      <td>Secos</td>\n",
       "      <td>40</td>\n",
       "      <td>125</td>\n",
       "      <td>140.3</td>\n",
       "      <td>3.125</td>\n",
       "      <td>3.5075</td>\n",
       "      <td>2016_IMP_ALEMANIA_CAP_ARANCEL_08_FRUTAS.xlsx</td>\n",
       "      <td>2016</td>\n",
       "    </tr>\n",
       "    <tr>\n",
       "      <th>1</th>\n",
       "      <td>2</td>\n",
       "      <td>AUSTRIA (UE)</td>\n",
       "      <td>Frutas; cortezas de agrios (cítricos), melones...</td>\n",
       "      <td>08011100</td>\n",
       "      <td>Secos</td>\n",
       "      <td>110849</td>\n",
       "      <td>503483</td>\n",
       "      <td>565109.3192</td>\n",
       "      <td>4.542062</td>\n",
       "      <td>5.09801</td>\n",
       "      <td>2016_IMP_ALEMANIA_CAP_ARANCEL_08_FRUTAS.xlsx</td>\n",
       "      <td>2016</td>\n",
       "    </tr>\n",
       "    <tr>\n",
       "      <th>2</th>\n",
       "      <td>3</td>\n",
       "      <td>BÉLGICA (UE)</td>\n",
       "      <td>Frutas; cortezas de agrios (cítricos), melones...</td>\n",
       "      <td>08011100</td>\n",
       "      <td>Secos</td>\n",
       "      <td>51955</td>\n",
       "      <td>142451</td>\n",
       "      <td>159887.0024</td>\n",
       "      <td>2.741815</td>\n",
       "      <td>3.077413</td>\n",
       "      <td>2016_IMP_ALEMANIA_CAP_ARANCEL_08_FRUTAS.xlsx</td>\n",
       "      <td>2016</td>\n",
       "    </tr>\n",
       "    <tr>\n",
       "      <th>3</th>\n",
       "      <td>4</td>\n",
       "      <td>BRASIL</td>\n",
       "      <td>Frutas; cortezas de agrios (cítricos), melones...</td>\n",
       "      <td>08011100</td>\n",
       "      <td>Secos</td>\n",
       "      <td>43</td>\n",
       "      <td>225</td>\n",
       "      <td>252.54</td>\n",
       "      <td>5.232558</td>\n",
       "      <td>5.873023</td>\n",
       "      <td>2016_IMP_ALEMANIA_CAP_ARANCEL_08_FRUTAS.xlsx</td>\n",
       "      <td>2016</td>\n",
       "    </tr>\n",
       "    <tr>\n",
       "      <th>4</th>\n",
       "      <td>5</td>\n",
       "      <td>BURKINA FASO</td>\n",
       "      <td>Frutas; cortezas de agrios (cítricos), melones...</td>\n",
       "      <td>08011100</td>\n",
       "      <td>Secos</td>\n",
       "      <td>21930</td>\n",
       "      <td>85964</td>\n",
       "      <td>96485.9936</td>\n",
       "      <td>3.919927</td>\n",
       "      <td>4.399726</td>\n",
       "      <td>2016_IMP_ALEMANIA_CAP_ARANCEL_08_FRUTAS.xlsx</td>\n",
       "      <td>2016</td>\n",
       "    </tr>\n",
       "  </tbody>\n",
       "</table>\n",
       "</div>"
      ],
      "text/plain": [
       "0 fila    País Socio                               Capitulo Del Arancel  \\\n",
       "0    1     AUSTRALIA  Frutas; cortezas de agrios (cítricos), melones...   \n",
       "1    2  AUSTRIA (UE)  Frutas; cortezas de agrios (cítricos), melones...   \n",
       "2    3  BÉLGICA (UE)  Frutas; cortezas de agrios (cítricos), melones...   \n",
       "3    4        BRASIL  Frutas; cortezas de agrios (cítricos), melones...   \n",
       "4    5  BURKINA FASO  Frutas; cortezas de agrios (cítricos), melones...   \n",
       "\n",
       "0 Código de Partida Nombre de Partida Cantidad(Kg) Valor CIF Euro  \\\n",
       "0          08011100             Secos           40            125   \n",
       "1          08011100             Secos       110849         503483   \n",
       "2          08011100             Secos        51955         142451   \n",
       "3          08011100             Secos           43            225   \n",
       "4          08011100             Secos        21930          85964   \n",
       "\n",
       "0 Valor CIF US Valor Unitario (Valor CIF Euro/Cantidad)  \\\n",
       "0        140.3                                    3.125   \n",
       "1  565109.3192                                 4.542062   \n",
       "2  159887.0024                                 2.741815   \n",
       "3       252.54                                 5.232558   \n",
       "4   96485.9936                                 3.919927   \n",
       "\n",
       "0 Valor Unitario (Valor CIF US/Cantidad (KG))  \\\n",
       "0                                      3.5075   \n",
       "1                                     5.09801   \n",
       "2                                    3.077413   \n",
       "3                                    5.873023   \n",
       "4                                    4.399726   \n",
       "\n",
       "0                                Nombre_Archivo   Año  \n",
       "0  2016_IMP_ALEMANIA_CAP_ARANCEL_08_FRUTAS.xlsx  2016  \n",
       "1  2016_IMP_ALEMANIA_CAP_ARANCEL_08_FRUTAS.xlsx  2016  \n",
       "2  2016_IMP_ALEMANIA_CAP_ARANCEL_08_FRUTAS.xlsx  2016  \n",
       "3  2016_IMP_ALEMANIA_CAP_ARANCEL_08_FRUTAS.xlsx  2016  \n",
       "4  2016_IMP_ALEMANIA_CAP_ARANCEL_08_FRUTAS.xlsx  2016  "
      ]
     },
     "execution_count": 44,
     "metadata": {},
     "output_type": "execute_result"
    }
   ],
   "source": [
    "final_df['Año'] = final_df['Nombre_Archivo'].apply(lambda x: x.split('_')[0])\n",
    "final_df.head(5)"
   ]
  },
  {
   "cell_type": "markdown",
   "metadata": {},
   "source": [
    "Eliminar columnas de valor en Euros y Nombre del archivo"
   ]
  },
  {
   "cell_type": "code",
   "execution_count": 45,
   "metadata": {},
   "outputs": [
    {
     "data": {
      "text/html": [
       "<div>\n",
       "<style scoped>\n",
       "    .dataframe tbody tr th:only-of-type {\n",
       "        vertical-align: middle;\n",
       "    }\n",
       "\n",
       "    .dataframe tbody tr th {\n",
       "        vertical-align: top;\n",
       "    }\n",
       "\n",
       "    .dataframe thead th {\n",
       "        text-align: right;\n",
       "    }\n",
       "</style>\n",
       "<table border=\"1\" class=\"dataframe\">\n",
       "  <thead>\n",
       "    <tr style=\"text-align: right;\">\n",
       "      <th></th>\n",
       "      <th>fila</th>\n",
       "      <th>País Socio</th>\n",
       "      <th>Capitulo Del Arancel</th>\n",
       "      <th>Código de Partida</th>\n",
       "      <th>Nombre de Partida</th>\n",
       "      <th>Cantidad(Kg)</th>\n",
       "      <th>Valor CIF US</th>\n",
       "      <th>Valor Unitario (Valor CIF US/Cantidad (KG))</th>\n",
       "      <th>Año</th>\n",
       "    </tr>\n",
       "  </thead>\n",
       "  <tbody>\n",
       "    <tr>\n",
       "      <th>0</th>\n",
       "      <td>1</td>\n",
       "      <td>AUSTRALIA</td>\n",
       "      <td>Frutas; cortezas de agrios (cítricos), melones...</td>\n",
       "      <td>08011100</td>\n",
       "      <td>Secos</td>\n",
       "      <td>40</td>\n",
       "      <td>140.3</td>\n",
       "      <td>3.5075</td>\n",
       "      <td>2016</td>\n",
       "    </tr>\n",
       "    <tr>\n",
       "      <th>1</th>\n",
       "      <td>2</td>\n",
       "      <td>AUSTRIA (UE)</td>\n",
       "      <td>Frutas; cortezas de agrios (cítricos), melones...</td>\n",
       "      <td>08011100</td>\n",
       "      <td>Secos</td>\n",
       "      <td>110849</td>\n",
       "      <td>565109.3192</td>\n",
       "      <td>5.09801</td>\n",
       "      <td>2016</td>\n",
       "    </tr>\n",
       "    <tr>\n",
       "      <th>2</th>\n",
       "      <td>3</td>\n",
       "      <td>BÉLGICA (UE)</td>\n",
       "      <td>Frutas; cortezas de agrios (cítricos), melones...</td>\n",
       "      <td>08011100</td>\n",
       "      <td>Secos</td>\n",
       "      <td>51955</td>\n",
       "      <td>159887.0024</td>\n",
       "      <td>3.077413</td>\n",
       "      <td>2016</td>\n",
       "    </tr>\n",
       "    <tr>\n",
       "      <th>3</th>\n",
       "      <td>4</td>\n",
       "      <td>BRASIL</td>\n",
       "      <td>Frutas; cortezas de agrios (cítricos), melones...</td>\n",
       "      <td>08011100</td>\n",
       "      <td>Secos</td>\n",
       "      <td>43</td>\n",
       "      <td>252.54</td>\n",
       "      <td>5.873023</td>\n",
       "      <td>2016</td>\n",
       "    </tr>\n",
       "    <tr>\n",
       "      <th>4</th>\n",
       "      <td>5</td>\n",
       "      <td>BURKINA FASO</td>\n",
       "      <td>Frutas; cortezas de agrios (cítricos), melones...</td>\n",
       "      <td>08011100</td>\n",
       "      <td>Secos</td>\n",
       "      <td>21930</td>\n",
       "      <td>96485.9936</td>\n",
       "      <td>4.399726</td>\n",
       "      <td>2016</td>\n",
       "    </tr>\n",
       "  </tbody>\n",
       "</table>\n",
       "</div>"
      ],
      "text/plain": [
       "0 fila    País Socio                               Capitulo Del Arancel  \\\n",
       "0    1     AUSTRALIA  Frutas; cortezas de agrios (cítricos), melones...   \n",
       "1    2  AUSTRIA (UE)  Frutas; cortezas de agrios (cítricos), melones...   \n",
       "2    3  BÉLGICA (UE)  Frutas; cortezas de agrios (cítricos), melones...   \n",
       "3    4        BRASIL  Frutas; cortezas de agrios (cítricos), melones...   \n",
       "4    5  BURKINA FASO  Frutas; cortezas de agrios (cítricos), melones...   \n",
       "\n",
       "0 Código de Partida Nombre de Partida Cantidad(Kg) Valor CIF US  \\\n",
       "0          08011100             Secos           40        140.3   \n",
       "1          08011100             Secos       110849  565109.3192   \n",
       "2          08011100             Secos        51955  159887.0024   \n",
       "3          08011100             Secos           43       252.54   \n",
       "4          08011100             Secos        21930   96485.9936   \n",
       "\n",
       "0 Valor Unitario (Valor CIF US/Cantidad (KG))   Año  \n",
       "0                                      3.5075  2016  \n",
       "1                                     5.09801  2016  \n",
       "2                                    3.077413  2016  \n",
       "3                                    5.873023  2016  \n",
       "4                                    4.399726  2016  "
      ]
     },
     "execution_count": 45,
     "metadata": {},
     "output_type": "execute_result"
    }
   ],
   "source": [
    "final_df = final_df.drop(df.columns[[6, 8, 10]],axis=1)\n",
    "final_df.head(5)"
   ]
  },
  {
   "cell_type": "markdown",
   "metadata": {},
   "source": [
    "Renombrar Columnas"
   ]
  },
  {
   "cell_type": "code",
   "execution_count": 48,
   "metadata": {},
   "outputs": [
    {
     "data": {
      "text/html": [
       "<div>\n",
       "<style scoped>\n",
       "    .dataframe tbody tr th:only-of-type {\n",
       "        vertical-align: middle;\n",
       "    }\n",
       "\n",
       "    .dataframe tbody tr th {\n",
       "        vertical-align: top;\n",
       "    }\n",
       "\n",
       "    .dataframe thead th {\n",
       "        text-align: right;\n",
       "    }\n",
       "</style>\n",
       "<table border=\"1\" class=\"dataframe\">\n",
       "  <thead>\n",
       "    <tr style=\"text-align: right;\">\n",
       "      <th></th>\n",
       "      <th>fila</th>\n",
       "      <th>Pais_Socio</th>\n",
       "      <th>Capitulo_Del_Arancel</th>\n",
       "      <th>Codigo_De_Partida</th>\n",
       "      <th>Nombre_De_Partida</th>\n",
       "      <th>Cantidad(Kg)</th>\n",
       "      <th>Valor_CIF_US</th>\n",
       "      <th>Valor_Unitario_US</th>\n",
       "      <th>Año</th>\n",
       "    </tr>\n",
       "  </thead>\n",
       "  <tbody>\n",
       "    <tr>\n",
       "      <th>0</th>\n",
       "      <td>1</td>\n",
       "      <td>AUSTRALIA</td>\n",
       "      <td>Frutas; cortezas de agrios (cítricos), melones...</td>\n",
       "      <td>08011100</td>\n",
       "      <td>Secos</td>\n",
       "      <td>40</td>\n",
       "      <td>140.3</td>\n",
       "      <td>3.5075</td>\n",
       "      <td>2016</td>\n",
       "    </tr>\n",
       "    <tr>\n",
       "      <th>1</th>\n",
       "      <td>2</td>\n",
       "      <td>AUSTRIA (UE)</td>\n",
       "      <td>Frutas; cortezas de agrios (cítricos), melones...</td>\n",
       "      <td>08011100</td>\n",
       "      <td>Secos</td>\n",
       "      <td>110849</td>\n",
       "      <td>565109.3192</td>\n",
       "      <td>5.09801</td>\n",
       "      <td>2016</td>\n",
       "    </tr>\n",
       "  </tbody>\n",
       "</table>\n",
       "</div>"
      ],
      "text/plain": [
       "0 fila    Pais_Socio                               Capitulo_Del_Arancel  \\\n",
       "0    1     AUSTRALIA  Frutas; cortezas de agrios (cítricos), melones...   \n",
       "1    2  AUSTRIA (UE)  Frutas; cortezas de agrios (cítricos), melones...   \n",
       "\n",
       "0 Codigo_De_Partida Nombre_De_Partida Cantidad(Kg) Valor_CIF_US  \\\n",
       "0          08011100             Secos           40        140.3   \n",
       "1          08011100             Secos       110849  565109.3192   \n",
       "\n",
       "0 Valor_Unitario_US   Año  \n",
       "0            3.5075  2016  \n",
       "1           5.09801  2016  "
      ]
     },
     "execution_count": 48,
     "metadata": {},
     "output_type": "execute_result"
    }
   ],
   "source": [
    "final_df=final_df.rename(columns={'País Socio':'Pais_Socio','Capitulo Del Arancel':'Capitulo_Del_Arancel','Código de Partida':\"Codigo_De_Partida\",'Nombre de Partida':'Nombre_De_Partida', 'Valor CIF US':'Valor_CIF_US', 'Valor Unitario (Valor CIF US/Cantidad (KG))':'Valor_Unitario_US'})\n",
    "final_df.head(2)"
   ]
  },
  {
   "cell_type": "code",
   "execution_count": 49,
   "metadata": {},
   "outputs": [
    {
     "name": "stdout",
     "output_type": "stream",
     "text": [
      "<class 'pandas.core.frame.DataFrame'>\n",
      "RangeIndex: 19245 entries, 0 to 19244\n",
      "Data columns (total 9 columns):\n",
      " #   Column                Non-Null Count  Dtype \n",
      "---  ------                --------------  ----- \n",
      " 0   fila                  19245 non-null  object\n",
      " 1   Pais_Socio            19245 non-null  object\n",
      " 2   Capitulo_Del_Arancel  19245 non-null  object\n",
      " 3   Codigo_De_Partida     19245 non-null  object\n",
      " 4   Nombre_De_Partida     19245 non-null  object\n",
      " 5   Cantidad(Kg)          19245 non-null  object\n",
      " 6   Valor_CIF_US          19245 non-null  object\n",
      " 7   Valor_Unitario_US     19245 non-null  object\n",
      " 8   Año                   19245 non-null  object\n",
      "dtypes: object(9)\n",
      "memory usage: 1.3+ MB\n"
     ]
    }
   ],
   "source": [
    "final_df.info()"
   ]
  },
  {
   "cell_type": "markdown",
   "metadata": {},
   "source": [
    "Ajustar tipo de variable"
   ]
  },
  {
   "cell_type": "code",
   "execution_count": 53,
   "metadata": {},
   "outputs": [
    {
     "name": "stdout",
     "output_type": "stream",
     "text": [
      "<class 'pandas.core.frame.DataFrame'>\n",
      "RangeIndex: 19245 entries, 0 to 19244\n",
      "Data columns (total 9 columns):\n",
      " #   Column                Non-Null Count  Dtype  \n",
      "---  ------                --------------  -----  \n",
      " 0   fila                  19245 non-null  object \n",
      " 1   Pais_Socio            19245 non-null  string \n",
      " 2   Capitulo_Del_Arancel  19245 non-null  object \n",
      " 3   Codigo_De_Partida     19245 non-null  object \n",
      " 4   Nombre_De_Partida     19245 non-null  object \n",
      " 5   Cantidad(Kg)          19245 non-null  float64\n",
      " 6   Valor_CIF_US          19245 non-null  float64\n",
      " 7   Valor_Unitario_US     19245 non-null  float64\n",
      " 8   Año                   19245 non-null  object \n",
      "dtypes: float64(3), object(5), string(1)\n",
      "memory usage: 1.3+ MB\n"
     ]
    }
   ],
   "source": [
    "final_df=final_df.astype({'Cantidad(Kg)':'float','Valor_CIF_US':'float','Valor_Unitario_US':'float' })\n",
    "final_df.info()"
   ]
  },
  {
   "cell_type": "markdown",
   "metadata": {},
   "source": [
    "Exportar_archivo a tipo JSON"
   ]
  },
  {
   "cell_type": "code",
   "execution_count": 54,
   "metadata": {},
   "outputs": [],
   "source": [
    "final_df.to_json('consolidado_importaciones_alemania.json',orient='records', lines=True)"
   ]
  }
 ],
 "metadata": {
  "kernelspec": {
   "display_name": "Python 3",
   "language": "python",
   "name": "python3"
  },
  "language_info": {
   "codemirror_mode": {
    "name": "ipython",
    "version": 3
   },
   "file_extension": ".py",
   "mimetype": "text/x-python",
   "name": "python",
   "nbconvert_exporter": "python",
   "pygments_lexer": "ipython3",
   "version": "3.12.5"
  }
 },
 "nbformat": 4,
 "nbformat_minor": 2
}
